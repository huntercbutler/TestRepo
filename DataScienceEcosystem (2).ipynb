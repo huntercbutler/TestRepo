{
 "cells": [
  {
   "cell_type": "markdown",
   "id": "ee620bf1-d07d-4c46-b639-7e9c5900518c",
   "metadata": {},
   "source": [
    "# Data Science Tools and Ecosystem"
   ]
  },
  {
   "cell_type": "markdown",
   "id": "1a58a24c-717f-48f1-8c55-6e9ee49558c3",
   "metadata": {},
   "source": [
    "In this notebook, Data Science Tools and Ecosystems are summarized"
   ]
  },
  {
   "cell_type": "markdown",
   "id": "f0c8dc40-becf-4efd-87e6-1f0b16037543",
   "metadata": {},
   "source": [
    "Some of the popular languages that Data Scientist use are:\n",
    "1. Python\n",
    "2. R\n",
    "3. SQL"
   ]
  },
  {
   "cell_type": "markdown",
   "id": "cae12d9c-d2bb-455c-b810-c04a0295ff71",
   "metadata": {},
   "source": [
    "Some of the commonly used libraries used by Data Scientists include:\n",
    "1. Pandas\n",
    "2. Numpy\n",
    "3. SciPy"
   ]
  },
  {
   "cell_type": "markdown",
   "id": "6c6b9bec-9afc-4df4-b523-a83eb19eb5b8",
   "metadata": {},
   "source": [
    "| Data Science Tools |\n",
    "|--------------------|\n",
    "| Jupyter Notebook   |\n",
    "| RStudio            |\n",
    "| Apache Zeppelin    |"
   ]
  },
  {
   "cell_type": "markdown",
   "id": "f53dc8c9-b70e-45b1-974c-1330fa36e450",
   "metadata": {},
   "source": [
    "### Below are a few examples of evaluating expressions in Python"
   ]
  },
  {
   "cell_type": "markdown",
   "id": "c9139469-aa5c-461d-9006-72b9487b5640",
   "metadata": {},
   "source": [
    "*This a simple arithmetic expression to multiply then add integers*"
   ]
  },
  {
   "cell_type": "code",
   "execution_count": 12,
   "id": "b8585412-f341-4fa8-8a91-bd422cebf03b",
   "metadata": {},
   "outputs": [
    {
     "data": {
      "text/plain": [
       "17"
      ]
     },
     "execution_count": 12,
     "metadata": {},
     "output_type": "execute_result"
    }
   ],
   "source": [
    "(3*4)+5"
   ]
  },
  {
   "cell_type": "markdown",
   "id": "8a6abfeb-7184-46c3-ab3c-e3e6e87e384c",
   "metadata": {},
   "source": [
    "*This will convert 200 minuetes to hours by dividing by 60*"
   ]
  },
  {
   "cell_type": "code",
   "execution_count": 14,
   "id": "59648b86-b3e5-42e6-a116-97fd2e2f7441",
   "metadata": {},
   "outputs": [
    {
     "data": {
      "text/plain": [
       "3.3333333333333335"
      ]
     },
     "execution_count": 14,
     "metadata": {},
     "output_type": "execute_result"
    }
   ],
   "source": [
    "200/60"
   ]
  },
  {
   "cell_type": "markdown",
   "id": "e4d808b2-64ba-473e-9ae1-878ad2e7b2a4",
   "metadata": {},
   "source": [
    " **Objectives:**\n",
    "- list popular languages for Data Science\n",
    "- list popular libraries for Data Science\n",
    "- create a table of popular Data Science tools\n",
    "- multiply and add integers\n",
    "- convert minuetes to hours"
   ]
  },
  {
   "cell_type": "markdown",
   "id": "4ac0dedc-21db-4f9f-8757-9de2816a9f44",
   "metadata": {},
   "source": [
    "## Author\n",
    "Hunter Butler"
   ]
  },
  {
   "cell_type": "code",
   "execution_count": null,
   "id": "1db78100-0352-4f52-ae70-f50547d6fc03",
   "metadata": {},
   "outputs": [],
   "source": []
  }
 ],
 "metadata": {
  "kernelspec": {
   "display_name": "Python 3 (ipykernel)",
   "language": "python",
   "name": "python3"
  },
  "language_info": {
   "codemirror_mode": {
    "name": "ipython",
    "version": 3
   },
   "file_extension": ".py",
   "mimetype": "text/x-python",
   "name": "python",
   "nbconvert_exporter": "python",
   "pygments_lexer": "ipython3",
   "version": "3.12.8"
  }
 },
 "nbformat": 4,
 "nbformat_minor": 5
}
